{
  "nbformat": 4,
  "nbformat_minor": 0,
  "metadata": {
    "colab": {
      "private_outputs": true,
      "provenance": [],
      "authorship_tag": "ABX9TyOHb+DRbxdtutk16a21ZQ1m",
      "include_colab_link": true
    },
    "kernelspec": {
      "name": "python3",
      "display_name": "Python 3"
    },
    "language_info": {
      "name": "python"
    }
  },
  "cells": [
    {
      "cell_type": "markdown",
      "metadata": {
        "id": "view-in-github",
        "colab_type": "text"
      },
      "source": [
        "<a href=\"https://colab.research.google.com/github/bjungweapon/mjc.ai.ml/blob/BDU/BDU_sklearn_softmax_animation.ipynb\" target=\"_parent\"><img src=\"https://colab.research.google.com/assets/colab-badge.svg\" alt=\"Open In Colab\"/></a>"
      ]
    },
    {
      "cell_type": "code",
      "execution_count": null,
      "metadata": {
        "id": "cPxkHIijtwRX"
      },
      "outputs": [],
      "source": [
        "import numpy as np\n",
        "import matplotlib.pyplot as plt\n",
        "from sklearn.linear_model import LogisticRegression\n",
        "from sklearn.datasets import make_classification\n",
        "\n",
        "# (1) 데이터 생성 (3클래스)\n",
        "X, y = make_classification(\n",
        "    n_samples=300,\n",
        "    n_features=2,\n",
        "    n_informative=2,\n",
        "    n_redundant=0,\n",
        "    n_classes=3,\n",
        "    n_clusters_per_class=1,\n",
        "    random_state=42\n",
        ")\n",
        "\n",
        "# (2) 모델 생성\n",
        "model = LogisticRegression(multi_class='multinomial', solver='lbfgs')\n",
        "model.fit(X, y)\n",
        "\n",
        "# (3) 예측 함수\n",
        "def predict(X_grid):\n",
        "    return model.predict(X_grid)\n"
      ]
    },
    {
      "cell_type": "code",
      "source": [
        "# (4) 결정 경계 시각화\n",
        "x_min, x_max = X[:, 0].min() - 1, X[:, 0].max() + 1\n",
        "y_min, y_max = X[:, 1].min() - 1, X[:, 1].max() + 1\n",
        "xx, yy = np.meshgrid(np.linspace(x_min, x_max, 300),\n",
        "                     np.linspace(y_min, y_max, 300))\n",
        "grid = np.c_[xx.ravel(), yy.ravel()]\n",
        "Z = predict(grid)\n",
        "Z = Z.reshape(xx.shape)\n",
        "\n",
        "plt.contourf(xx, yy, Z, cmap=plt.cm.Spectral, alpha=0.5)\n",
        "plt.scatter(X[:, 0], X[:, 1], c=y, edgecolors='k', cmap=plt.cm.Spectral)\n",
        "plt.title(\"Softmax Regression Decision Boundary (sklearn)\")\n",
        "plt.show()\n"
      ],
      "metadata": {
        "id": "wpDBDdVRuTNU"
      },
      "execution_count": null,
      "outputs": []
    },
    {
      "cell_type": "code",
      "source": [
        "import numpy as np\n",
        "import matplotlib.pyplot as plt\n",
        "import matplotlib.animation as animation\n",
        "from sklearn.linear_model import LogisticRegression\n",
        "from sklearn.datasets import make_classification\n",
        "\n",
        "# (1) 데이터 생성\n",
        "X, y = make_classification(\n",
        "    n_samples=300,\n",
        "    n_features=2,\n",
        "    n_informative=2,\n",
        "    n_redundant=0,\n",
        "    n_classes=3,\n",
        "    n_clusters_per_class=1,\n",
        "    random_state=42\n",
        ")\n",
        "\n",
        "# (2) 모델 초기화\n",
        "model = LogisticRegression(multi_class='multinomial', solver='lbfgs')\n",
        "\n",
        "# (3) 시각화용 그리드\n",
        "x_min, x_max = X[:, 0].min() - 1, X[:, 0].max() + 1\n",
        "y_min, y_max = X[:, 1].min() - 1, X[:, 1].max() + 1\n",
        "xx, yy = np.meshgrid(np.linspace(x_min, x_max, 300),\n",
        "                     np.linspace(y_min, y_max, 300))\n",
        "grid = np.c_[xx.ravel(), yy.ravel()]\n",
        "\n",
        "# (4) 애니메이션 준비\n",
        "fig, ax = plt.subplots()\n",
        "\n",
        "def animate(i):\n",
        "    ax.clear()\n",
        "\n",
        "    # 점진적으로 학습 데이터 일부만 사용\n",
        "    num_samples = 10 + i * 5\n",
        "    if num_samples > len(X):\n",
        "        num_samples = len(X)\n",
        "\n",
        "    subset_X = X[:num_samples]\n",
        "    subset_y = y[:num_samples]\n",
        "\n",
        "    temp_model = LogisticRegression(multi_class='multinomial', solver='lbfgs', max_iter=200)\n",
        "    temp_model.fit(subset_X, subset_y)\n",
        "\n",
        "    Z = temp_model.predict(grid)\n",
        "    Z = Z.reshape(xx.shape)\n",
        "\n",
        "    ax.contourf(xx, yy, Z, cmap=plt.cm.Spectral, alpha=0.5)\n",
        "    ax.scatter(X[:, 0], X[:, 1], c=y, edgecolors='k', cmap=plt.cm.Spectral)\n",
        "    ax.set_title(f\"Softmax Regression Animation - Frame {i}\")\n",
        "\n",
        "ani = animation.FuncAnimation(fig, animate, frames=30, interval=300)\n",
        "\n",
        "# (5) Colab에서 animation 표시를 위해 JSHTML 모드 사용\n",
        "from IPython.display import HTML\n",
        "\n",
        "HTML(ani.to_jshtml())"
      ],
      "metadata": {
        "id": "Dmnt2IrTuWIx"
      },
      "execution_count": null,
      "outputs": []
    },
    {
      "cell_type": "markdown",
      "source": [
        "tatic 시각화: 결정 경계가 한눈에 보인다.\n",
        "\n",
        "Animation 시각화: 점점 더 많은 데이터로 학습하면서 결정 경계가 변해가는 과정을 직관적으로 이해할 수 있다.\n",
        "\n",
        "Animation을 만들려면 \"부분 학습(subset training)\" 개념을 이용해야 하고, sklearn의 기본 fit()은 내부 최적화를 다 끝낸 후 모델을 반환하는 형태이기 때문에 이런 식으로 시뮬레이션하는 거예요."
      ],
      "metadata": {
        "id": "xz0AfuqSumx5"
      }
    },
    {
      "cell_type": "code",
      "source": [
        "import torch\n",
        "import torch.nn as nn\n",
        "import torch.optim as optim\n",
        "import numpy as np\n",
        "import matplotlib.pyplot as plt\n",
        "import matplotlib.animation as animation\n",
        "\n",
        "# (1) 데이터 생성 (numpy -> torch tensor)\n",
        "from sklearn.datasets import make_classification\n",
        "\n",
        "X_np, y_np = make_classification(\n",
        "    n_samples=300,\n",
        "    n_features=2,\n",
        "    n_informative=2,\n",
        "    n_redundant=0,\n",
        "    n_classes=3,\n",
        "    n_clusters_per_class=1,\n",
        "    random_state=42\n",
        ")\n",
        "\n",
        "X = torch.tensor(X_np, dtype=torch.float32)\n",
        "y = torch.tensor(y_np, dtype=torch.long)\n",
        "\n",
        "# (2) 모델 정의 (Softmax Regression)\n",
        "class SoftmaxRegression(nn.Module):\n",
        "    def __init__(self, input_dim, output_dim):\n",
        "        super(SoftmaxRegression, self).__init__()\n",
        "        self.linear = nn.Linear(input_dim, output_dim)\n",
        "\n",
        "    def forward(self, x):\n",
        "        return self.linear(x)  # CrossEntropyLoss 내부에 softmax 포함\n",
        "\n",
        "model = SoftmaxRegression(input_dim=2, output_dim=3)\n",
        "\n",
        "# (3) 손실 함수와 최적화 방법\n",
        "criterion = nn.CrossEntropyLoss()\n",
        "optimizer = optim.SGD(model.parameters(), lr=0.1)\n"
      ],
      "metadata": {
        "id": "Tx_86Qxwunmr"
      },
      "execution_count": null,
      "outputs": []
    },
    {
      "cell_type": "code",
      "source": [
        "# 시각화용 그리드 생성\n",
        "x_min, x_max = X_np[:, 0].min() - 1, X_np[:, 0].max() + 1\n",
        "y_min, y_max = X_np[:, 1].min() - 1, X_np[:, 1].max() + 1\n",
        "xx, yy = np.meshgrid(np.linspace(x_min, x_max, 300),\n",
        "                     np.linspace(y_min, y_max, 300))\n",
        "grid = np.c_[xx.ravel(), yy.ravel()]\n",
        "grid_torch = torch.tensor(grid, dtype=torch.float32)\n"
      ],
      "metadata": {
        "id": "mLPc2ebavVgF"
      },
      "execution_count": null,
      "outputs": []
    },
    {
      "cell_type": "code",
      "source": [
        "# (4) Animation 준비\n",
        "fig, ax = plt.subplots()\n",
        "\n",
        "epochs = 200  # 총 학습 횟수\n",
        "\n",
        "def animate(epoch):\n",
        "    ax.clear()\n",
        "\n",
        "    # 한 번 학습\n",
        "    outputs = model(X)\n",
        "    loss = criterion(outputs, y)\n",
        "    optimizer.zero_grad()\n",
        "    loss.backward()\n",
        "    optimizer.step()\n",
        "\n",
        "    # 결정 경계 계산\n",
        "    with torch.no_grad():\n",
        "        preds = model(grid_torch)\n",
        "        preds = torch.argmax(preds, axis=1).numpy()\n",
        "    Z = preds.reshape(xx.shape)\n",
        "\n",
        "    ax.contourf(xx, yy, Z, cmap=plt.cm.Spectral, alpha=0.5)\n",
        "    ax.scatter(X_np[:, 0], X_np[:, 1], c=y_np, edgecolors='k', cmap=plt.cm.Spectral)\n",
        "    ax.set_title(f\"Epoch {epoch+1} / Loss: {loss.item():.4f}\")\n",
        "\n",
        "ani = animation.FuncAnimation(fig, animate, frames=epochs, interval=200)\n",
        "\n",
        "# Colab용 출력\n",
        "from IPython.display import HTML\n",
        "HTML(ani.to_jshtml())\n"
      ],
      "metadata": {
        "id": "oNMoxxPvvXVN"
      },
      "execution_count": null,
      "outputs": []
    }
  ]
}
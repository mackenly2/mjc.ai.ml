{
  "nbformat": 4,
  "nbformat_minor": 0,
  "metadata": {
    "colab": {
      "private_outputs": true,
      "provenance": [],
      "authorship_tag": "ABX9TyN0zbt9eBAq7HonVel5hgMj",
      "include_colab_link": true
    },
    "kernelspec": {
      "name": "python3",
      "display_name": "Python 3"
    },
    "language_info": {
      "name": "python"
    }
  },
  "cells": [
    {
      "cell_type": "markdown",
      "metadata": {
        "id": "view-in-github",
        "colab_type": "text"
      },
      "source": [
        "<a href=\"https://colab.research.google.com/github/bjungweapon/mjc.ai.ml/blob/BDU/BDU_%EC%84%A0%ED%98%95%ED%9A%8C%EA%B7%80_%ED%95%98%EA%B0%95%EB%B2%95_%EC%95%A0%EB%8B%88%EB%A9%94%EC%9D%B4%EC%85%98.ipynb\" target=\"_parent\"><img src=\"https://colab.research.google.com/assets/colab-badge.svg\" alt=\"Open In Colab\"/></a>"
      ]
    },
    {
      "cell_type": "code",
      "source": [
        "# Google Colab에서 matplotlib 애니메이션을 보여주기 위한 설정\n",
        "import numpy as np\n",
        "import matplotlib.pyplot as plt\n",
        "from matplotlib.animation import FuncAnimation\n",
        "from IPython.display import HTML\n",
        "\n",
        "# 한글 표시를 위한 설정\n",
        "!pip install koreanize-matplotlib\n",
        "import koreanize_matplotlib\n",
        "\n",
        "# 비용 함수와 기울기 정의\n",
        "def loss(x):\n",
        "    return x ** 2\n",
        "\n",
        "def grad(x):\n",
        "    return 2 * x\n",
        "\n",
        "# 경사하강법 실행 (이력 저장)\n",
        "def gradient_descent_path(start, alpha, steps):\n",
        "    x = start\n",
        "    x_history = [x]\n",
        "    for _ in range(steps):\n",
        "        x -= alpha * grad(x)\n",
        "        x_history.append(x)\n",
        "    return x_history\n",
        "\n",
        "# 설정\n",
        "start = 10\n",
        "steps = 50\n",
        "alphas = [0.01, 0.1, 0.8]\n",
        "colors = ['blue', 'green', 'red']\n",
        "paths = [gradient_descent_path(start, alpha, steps) for alpha in alphas]\n",
        "\n",
        "# X 축과 비용 함수 그리기\n",
        "x_vals = np.linspace(-12, 12, 400)\n",
        "y_vals = loss(x_vals)\n",
        "\n",
        "# 그래프 설정\n",
        "fig, ax = plt.subplots(figsize=(8, 5))\n",
        "ax.plot(x_vals, y_vals, 'k--', label='비용 함수 y = x²')\n",
        "lines = []\n",
        "points = []\n",
        "\n",
        "# 각 학습률에 대해 라인과 점 생성\n",
        "for i, color in enumerate(colors):\n",
        "    (line,) = ax.plot([], [], color=color, lw=2, label=f'α = {alphas[i]}')\n",
        "    (point,) = ax.plot([], [], 'o', color=color)\n",
        "    lines.append(line)\n",
        "    points.append(point)\n",
        "\n",
        "ax.set_xlim(-12, 12)\n",
        "ax.set_ylim(0, 150)\n",
        "ax.set_title(\"학습률에 따른 경사하강법 수렴 애니메이션\")\n",
        "ax.set_xlabel(\"x (파라미터)\")\n",
        "ax.set_ylabel(\"Loss\")\n",
        "ax.legend()\n",
        "\n",
        "# 애니메이션 초기화 함수\n",
        "def init():\n",
        "    for line, point in zip(lines, points):\n",
        "        line.set_data([], [])\n",
        "        point.set_data([], [])\n",
        "    return lines + points\n",
        "\n",
        "# 애니메이션 업데이트 함수\n",
        "def update(frame):\n",
        "    for path, line, point in zip(paths, lines, points):\n",
        "        x_data = path[:frame+1]\n",
        "        y_data = [loss(x) for x in x_data]\n",
        "        line.set_data(x_data, y_data)\n",
        "        if len(x_data) > 0:\n",
        "            point.set_data([x_data[-1]], [y_data[-1]])\n",
        "    return lines + points\n",
        "\n",
        "# 애니메이션 생성\n",
        "ani = FuncAnimation(fig, update, frames=steps, init_func=init,\n",
        "                    blit=True, interval=200, repeat=False)\n",
        "\n",
        "# Colab에서 애니메이션을 보여줌\n",
        "plt.close()  # 백그라운드 그림 닫기\n",
        "from IPython.display import display\n",
        "display(HTML(ani.to_jshtml()))"
      ],
      "metadata": {
        "id": "TlIw5f1s73lo"
      },
      "execution_count": null,
      "outputs": []
    }
  ]
}
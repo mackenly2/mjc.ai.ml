{
  "nbformat": 4,
  "nbformat_minor": 0,
  "metadata": {
    "colab": {
      "private_outputs": true,
      "provenance": [],
      "authorship_tag": "ABX9TyO52DKFXf+25Qeu8QxtE7Ff",
      "include_colab_link": true
    },
    "kernelspec": {
      "name": "python3",
      "display_name": "Python 3"
    },
    "language_info": {
      "name": "python"
    }
  },
  "cells": [
    {
      "cell_type": "markdown",
      "metadata": {
        "id": "view-in-github",
        "colab_type": "text"
      },
      "source": [
        "<a href=\"https://colab.research.google.com/github/bjungweapon/mjc.ai.ml/blob/BDU/BDU_algorithm_summary_code.ipynb\" target=\"_parent\"><img src=\"https://colab.research.google.com/assets/colab-badge.svg\" alt=\"Open In Colab\"/></a>"
      ]
    },
    {
      "cell_type": "markdown",
      "source": [
        "[ RNN model ]"
      ],
      "metadata": {
        "id": "H39U0GA1ctLN"
      }
    },
    {
      "cell_type": "code",
      "execution_count": null,
      "metadata": {
        "id": "FK_YT7Docl4r"
      },
      "outputs": [],
      "source": [
        "import tensorflow as tf\n",
        "from tensorflow.keras import layers, models\n",
        "\n",
        "# 간단한 RNN 모델 정의\n",
        "model = models.Sequential([\n",
        "    layers.SimpleRNN(32, input_shape=(None, 1)), # (시간 단계, 특성 수)\n",
        "    layers.Dense(1)\n",
        "])\n",
        "\n",
        "model.summary()"
      ]
    },
    {
      "cell_type": "code",
      "source": [
        "from sklearn.neural_network import MLPClassifier\n",
        "from sklearn.datasets import make_moons\n",
        "X, y = make_moons(n_samples=200, noise=0.2, random_state=0)\n",
        "clf = MLPClassifier(hidden_layer_sizes=(10,), max_iter=1000)\n",
        "clf.fit(X, y)\n",
        "# Decision boundary 시각화"
      ],
      "metadata": {
        "id": "-_4lk3RGdbgg"
      },
      "execution_count": null,
      "outputs": []
    },
    {
      "cell_type": "code",
      "source": [
        "from tensorflow.keras.models import Sequential\n",
        "from tensorflow.keras.layers import Embedding, SimpleRNN, Dense\n",
        "from tensorflow.keras.preprocessing.text import Tokenizer\n",
        "from tensorflow.keras.preprocessing.sequence import pad_sequences\n",
        "import numpy as np\n",
        "import random\n",
        "\n",
        "# 1. 더 많은 학습 데이터 (샘플 데이터 추가)\n",
        "sentences = [\n",
        "    'hello world this is a test',\n",
        "    'this is another test example',\n",
        "    'one more sequence for modeling',\n",
        "    'language modeling with recurrent neural networks',\n",
        "    'simple rnn for text generation',\n",
        "    'deep learning for natural language processing',\n",
        "    'understanding sequences with rnn',\n",
        "    'generating text from a learned model',\n",
        "    'predicting the next word in a sentence',\n",
        "    'recurrent networks can learn dependencies',\n",
        "    'jungbg test',\n",
        "    'jungbg aaaaa',\n",
        "    'jungbg test2',\n",
        "    'junbg test3',\n",
        "    'jungbg test4',\n",
        "    'jungbg test5',\n",
        "    'jungbg test6',\n",
        "    'jungbg test7',\n",
        "    'jungbg test8',\n",
        "    'jungbg test9',\n",
        "    'jungbg test10'\n",
        "]\n",
        "\n",
        "# 2. 텍스트 데이터 로딩 함수 (선택 사항)\n",
        "def load_text_data(filepath):\n",
        "    with open(filepath, 'r', encoding='utf-8') as f:\n",
        "        text = f.read().lower()\n",
        "    return text.split('\\n')\n",
        "\n",
        "# 실제 텍스트 파일을 로드하려면 아래 주석을 해제하고 파일 경로를 지정하세요.\n",
        "# file_path = 'your_text_file.txt'\n",
        "# if os.path.exists(file_path):\n",
        "#     sentences.extend(load_text_data(file_path))\n",
        "\n",
        "# 3. 토크나이저 설정 및 시퀀스 생성\n",
        "tokenizer = Tokenizer()\n",
        "tokenizer.fit_on_texts(sentences)\n",
        "sequences = tokenizer.texts_to_sequences(sentences)\n",
        "vocab_size = len(tokenizer.word_index) + 1\n",
        "\n",
        "# 4. 입력/타겟 쌍 생성 (n-gram 방식)\n",
        "X, y = [], []\n",
        "for seq in sequences:\n",
        "    for i in range(1, len(seq)):\n",
        "        X.append(seq[:i])\n",
        "        y.append(seq[i])\n",
        "X = pad_sequences(X, padding='pre')\n",
        "y = np.array(y)\n",
        "\n",
        "# 5. 모델 정의\n",
        "embedding_dim = 10\n",
        "rnn_units = 32  # SimpleRNN 레이어의 유닛 수 증가\n",
        "model = Sequential([\n",
        "    Embedding(input_dim=vocab_size, output_dim=embedding_dim, input_length=X.shape[1]),\n",
        "    SimpleRNN(rnn_units),\n",
        "    Dense(vocab_size, activation='softmax')\n",
        "])\n",
        "model.compile(optimizer='adam', loss='sparse_categorical_crossentropy', metrics=['accuracy'])\n",
        "model.summary() # 모델 구조 확인\n",
        "\n",
        "# 6. 학습\n",
        "epochs = 20 # 에포크 수 증가\n",
        "model.fit(X, y, epochs=epochs, verbose=1)\n",
        "\n",
        "# 7. 예측 함수\n",
        "def predict_next_word(model, tokenizer, seed_text, max_len):\n",
        "    sequence = tokenizer.texts_to_sequences([seed_text])[0]\n",
        "    sequence = pad_sequences([sequence], maxlen=max_len, padding='pre')\n",
        "    prediction = model.predict(sequence, verbose=0)\n",
        "    predicted_index = np.argmax(prediction)\n",
        "    predicted_word = tokenizer.index_word.get(predicted_index)\n",
        "    return predicted_word\n",
        "\n",
        "# 8. 다양한 예측 시도\n",
        "seed_texts = [\n",
        "    'hello world',\n",
        "    'this is',\n",
        "    'one more',\n",
        "    'predict',\n",
        "    'jungbg'\n",
        "]\n",
        "max_sequence_len = X.shape[1]\n",
        "\n",
        "print(\"\\n--- 예측 결과 ---\")\n",
        "for seed_text in seed_texts:\n",
        "    next_word = predict_next_word(model, tokenizer, seed_text, max_sequence_len)\n",
        "    print(f\"Seed text: '{seed_text}', Next word prediction: '{next_word}'\")\n",
        "\n",
        "print(\"\\n--- 연속적인 예측 시도 ---\")\n",
        "num_predictions = 5\n",
        "for seed_text in seed_texts:\n",
        "    current_text = seed_text\n",
        "    for _ in range(num_predictions):\n",
        "        next_word = predict_next_word(model, tokenizer, current_text, max_sequence_len)\n",
        "        if next_word is not None:\n",
        "            current_text += ' ' + next_word\n",
        "        else:\n",
        "            break\n",
        "    print(f\"Seed text: '{seed_text}', Generated sequence: '{current_text}'\")"
      ],
      "metadata": {
        "id": "Nn5HDECLdcLe"
      },
      "execution_count": null,
      "outputs": []
    }
  ]
}
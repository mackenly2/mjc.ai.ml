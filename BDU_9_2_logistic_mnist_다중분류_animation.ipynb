{
  "nbformat": 4,
  "nbformat_minor": 0,
  "metadata": {
    "colab": {
      "private_outputs": true,
      "provenance": [],
      "authorship_tag": "ABX9TyPnO5pdhLisndr4j64zgcAv",
      "include_colab_link": true
    },
    "kernelspec": {
      "name": "python3",
      "display_name": "Python 3"
    },
    "language_info": {
      "name": "python"
    }
  },
  "cells": [
    {
      "cell_type": "markdown",
      "metadata": {
        "id": "view-in-github",
        "colab_type": "text"
      },
      "source": [
        "<a href=\"https://colab.research.google.com/github/bjungweapon/mjc.ai.ml/blob/BDU/BDU_9_2_logistic_mnist_%EB%8B%A4%EC%A4%91%EB%B6%84%EB%A5%98_animation.ipynb\" target=\"_parent\"><img src=\"https://colab.research.google.com/assets/colab-badge.svg\" alt=\"Open In Colab\"/></a>"
      ]
    },
    {
      "cell_type": "markdown",
      "source": [],
      "metadata": {
        "id": "bmrSXsoGCIEY"
      }
    },
    {
      "cell_type": "markdown",
      "source": [
        "1. import 하기"
      ],
      "metadata": {
        "id": "XAa16ndpCCF5"
      }
    },
    {
      "cell_type": "markdown",
      "source": [
        ". 데이터 불러오기:\n",
        "MNIST(28x28 손글씨 숫자 이미지, 0~9) 데이터를 다운로드합니다."
      ],
      "metadata": {
        "id": "PPa-pO95CJLn"
      }
    },
    {
      "cell_type": "code",
      "source": [
        "import numpy as np\n",
        "import matplotlib.pyplot as plt\n",
        "from sklearn.datasets import fetch_openml\n",
        "from sklearn.linear_model import LogisticRegression\n",
        "from sklearn.model_selection import train_test_split\n",
        "from sklearn.preprocessing import StandardScaler\n",
        "from sklearn.metrics import classification_report, confusion_matrix, accuracy_score"
      ],
      "metadata": {
        "id": "ni8pFgLdCLqA"
      },
      "execution_count": null,
      "outputs": []
    },
    {
      "cell_type": "markdown",
      "source": [
        "2. 데이터 분할:\n",
        "학습 데이터와 테스트 데이터를 나눕니다. (학습 6,000개, 테스트 10,000개)"
      ],
      "metadata": {
        "id": "mz9Cnp-UCS-g"
      }
    },
    {
      "cell_type": "code",
      "source": [
        "# 1. 데이터 불러오기\n",
        "X, y = fetch_openml(\"mnist_784\", version=1, return_X_y=True, as_frame=False)\n",
        "y = y.astype(np.int8)  # y를 정수형으로 변환\n",
        "\n",
        "# 2. 데이터 분할 (학습용/테스트용)\n",
        "X_train, X_test, y_train, y_test = train_test_split(\n",
        "    X, y, train_size=6000, test_size=10000, random_state=42, stratify=y\n",
        ")"
      ],
      "metadata": {
        "id": "4c2GocoLCWQ3"
      },
      "execution_count": null,
      "outputs": []
    },
    {
      "cell_type": "markdown",
      "source": [
        "3. 데이터 표준화:\n",
        "각 픽셀 값을 평균 0, 표준편차 1로 정규화하여 학습 효과를 높입니다."
      ],
      "metadata": {
        "id": "4gQxrbrcCbmg"
      }
    },
    {
      "cell_type": "code",
      "source": [
        "\n",
        "# 3. 데이터 표준화 (정규화)\n",
        "scaler = StandardScaler()\n",
        "X_train = scaler.fit_transform(X_train)\n",
        "X_test = scaler.transform(X_test)"
      ],
      "metadata": {
        "id": "8yHmLddNCdY0"
      },
      "execution_count": null,
      "outputs": []
    },
    {
      "cell_type": "markdown",
      "source": [
        "4. 모델 학습:\n",
        "LogisticRegression(multinomial, saga solver, L2 penalty)로 다중 클래스 회귀 모델을 학습합니다."
      ],
      "metadata": {
        "id": "PL7Y7aSRChAn"
      }
    },
    {
      "cell_type": "code",
      "source": [
        "# 4. 다중 클래스 로지스틱 회귀 모델 학습\n",
        "clf = LogisticRegression(\n",
        "    multi_class='multinomial', solver='saga', penalty='l2', max_iter=100, n_jobs=-1, verbose=1\n",
        ")\n",
        "\n",
        "### multinomial --> softmax 방식 적용.\n",
        "\n",
        "clf.fit(X_train, y_train)\n"
      ],
      "metadata": {
        "id": "zKK6t6JDCk6P"
      },
      "execution_count": null,
      "outputs": []
    },
    {
      "cell_type": "markdown",
      "source": [
        "5. 예측:\n",
        "테스트 데이터에 대해 숫자(0~9)를 예측합니다."
      ],
      "metadata": {
        "id": "9ocKEwtWCoyP"
      }
    },
    {
      "cell_type": "code",
      "source": [
        "\n",
        "# 5. 예측\n",
        "y_pred = clf.predict(X_test)"
      ],
      "metadata": {
        "id": "IdcsAgOUCrwD"
      },
      "execution_count": null,
      "outputs": []
    },
    {
      "cell_type": "markdown",
      "source": [
        "6. 성능 평가:\n",
        "\n",
        "정확도(accuracy)\n",
        "\n",
        "각 클래스별 precision, recall, f1-score (classification report)\n",
        "\n",
        "혼동 행렬(confusion matrix)"
      ],
      "metadata": {
        "id": "1XVAjBC0Cuxr"
      }
    },
    {
      "cell_type": "code",
      "source": [
        "\n",
        "# 6. 성능 평가\n",
        "acc = accuracy_score(y_test, y_pred)\n",
        "print(f\"Test Accuracy: {acc:.4f}\")\n",
        "\n",
        "print(\"\\nClassification Report:\")\n",
        "print(classification_report(y_test, y_pred))\n",
        "\n",
        "print(\"\\nConfusion Matrix:\")\n",
        "print(confusion_matrix(y_test, y_pred))"
      ],
      "metadata": {
        "id": "mG1T9JQoC09a"
      },
      "execution_count": null,
      "outputs": []
    },
    {
      "cell_type": "markdown",
      "source": [
        "7. 예측 결과 시각화:\n",
        "테스트 데이터 중 10개 샘플의 이미지를 예측 결과와 함께 보여줍니다."
      ],
      "metadata": {
        "id": "MgwVgNE-CzYO"
      }
    },
    {
      "cell_type": "code",
      "execution_count": null,
      "metadata": {
        "id": "gGHSM0oABvTi"
      },
      "outputs": [],
      "source": [
        "\n",
        "\n",
        "# 7. 예측 결과 시각화 (임의의 10개 샘플)\n",
        "plt.figure(figsize=(10, 2))\n",
        "for i in range(10):\n",
        "    plt.subplot(1, 10, i+1)\n",
        "    plt.imshow(X_test[i].reshape(28, 28), cmap='gray')\n",
        "    plt.title(f\"Pred: {y_pred[i]}\")\n",
        "    plt.axis('off')\n",
        "plt.suptitle(\"Sample Predictions\")\n",
        "plt.show()\n"
      ]
    },
    {
      "cell_type": "markdown",
      "source": [
        "정확히 말하면, scikit-learn의 LogisticRegression 클래스는 다중 클래스 분류에서 softmax 방식을 사용할 수 있습니다.\n",
        "아래에서 더 자세히 설명드리겠습니다.\n",
        "\n",
        "1. Logistic Regression과 Softmax의 관계\n",
        "이진 분류(binary classification)\n",
        "\n",
        "로지스틱 회귀는 시그모이드(sigmoid) 함수를 사용하여 두 클래스(0 또는 1) 중 하나로 분류합니다.\n",
        "\n",
        "다중 클래스 분류(multiclass classification)\n",
        "\n",
        "다중 클래스 문제(예: MNIST)는 softmax 함수를 사용하여 각 클래스(0~9)에 속할 확률을 계산합니다.\n",
        "\n",
        "이 방식은 \"multinomial logistic regression\" 또는 \"softmax regression\"이라고 부릅니다.\n",
        "\n",
        "2. scikit-learn의 LogisticRegression에서의 동작\n",
        "multi_class='multinomial' 옵션을 사용하면, scikit-learn은 softmax(=multinomial) 방식을 사용합니다.\n",
        "\n",
        "multi_class='ovr'(One-vs-Rest)를 사용하면, 각 클래스를 다른 모든 클래스와 구분하는 여러 개의 이진 로지스틱 회귀를 학습합니다.\n",
        "\n",
        "MNIST 예제 코드에서\n",
        "\n",
        "python\n",
        "clf = LogisticRegression(\n",
        "    multi_class='multinomial', solver='saga', penalty='l2', max_iter=100, n_jobs=-1, verbose=1\n",
        ")\n",
        "여기서 multi_class='multinomial'이므로 softmax 방식을 사용합니다.\n",
        "\n",
        "즉, 각 숫자(0~9)에 대해 softmax 확률을 계산하고, 가장 높은 확률의 클래스를 예측합니다.\n",
        "\n",
        "3. 결론\n",
        "MNIST 다중 클래스 분류는 softmax(=multinomial logistic regression)로 푸는 것이 원칙입니다.\n",
        "\n",
        "위에 제공된 코드는 multi_class='multinomial' 옵션을 명시했으므로, softmax 방식을 사용한 로지스틱 회귀가 맞습니다.\n",
        "\n",
        "만약 softmax가 아닌 이진 로지스틱 회귀(One-vs-Rest) 방식으로 하려면 multi_class='ovr'로 설정하면 됩니다.\n",
        "\n",
        "정리\n",
        "MNIST = 다중 클래스 분류 → softmax(=multinomial logistic regression) 사용\n",
        "\n",
        "scikit-learn의 LogisticRegression에서 multi_class='multinomial' → softmax 방식\n",
        "\n",
        "softmax 없이(One-vs-Rest)도 가능하지만, 원칙적으로는 softmax가 더 자연스러운 방식"
      ],
      "metadata": {
        "id": "ehR5GeyHDfbm"
      }
    },
    {
      "cell_type": "code",
      "source": [
        "import numpy as np\n",
        "import matplotlib.pyplot as plt\n",
        "from matplotlib import animation\n",
        "from sklearn.datasets import fetch_openml\n",
        "from sklearn.linear_model import SGDClassifier\n",
        "from sklearn.preprocessing import StandardScaler\n",
        "\n",
        "# 1. MNIST 데이터 로딩 및 전처리\n",
        "X, y = fetch_openml(\"mnist_784\", version=1, return_X_y=True, as_frame=False)\n",
        "y = y.astype(np.int8)\n",
        "mask = np.isin(y, np.arange(10))  # 0~9만 사용\n",
        "X, y = X[mask], y[mask]\n",
        "\n",
        "# 데이터 표준화\n",
        "scaler = StandardScaler()\n",
        "X = scaler.fit_transform(X)\n",
        "\n",
        "# 학습 데이터 일부만 사용 (속도 위해)\n",
        "X_train, y_train = X[:6000], y[:6000]\n",
        "\n",
        "# 2. SGDClassifier로 점진적 학습 (partial_fit)\n",
        "clf = SGDClassifier(loss=\"log_loss\", max_iter=1, warm_start=True, learning_rate='constant', eta0=0.01, random_state=42)\n",
        "classes = np.unique(y_train)\n",
        "coef_history = []\n",
        "\n",
        "for epoch in range(30):  # 30 epoch 동안 학습\n",
        "    clf.partial_fit(X_train, y_train, classes=classes)\n",
        "    coef_history.append(clf.coef_.copy())\n",
        "\n",
        "# 3. 애니메이션: 각 클래스별 가중치 시각화\n",
        "fig, axes = plt.subplots(2, 5, figsize=(12, 5))\n",
        "plt.tight_layout()\n",
        "\n",
        "def animate(epoch):\n",
        "    fig.suptitle(f'Weights Visualization (Epoch {epoch+1})', fontsize=16)\n",
        "    for i in range(10):\n",
        "        ax = axes[i//5, i%5]\n",
        "        ax.clear()\n",
        "        ax.imshow(coef_history[epoch][i].reshape(28, 28), cmap='RdBu', vmin=-2, vmax=2)\n",
        "        ax.set_title(f'Class {i}')\n",
        "        ax.axis('off')\n",
        "\n",
        "ani = animation.FuncAnimation(fig, animate, frames=len(coef_history), interval=400, repeat=False)\n",
        "\n",
        "# Google Colab에서 애니메이션 표시\n",
        "from IPython.display import HTML\n",
        "HTML(ani.to_jshtml())\n"
      ],
      "metadata": {
        "id": "Ldj0NMVRDgEZ"
      },
      "execution_count": null,
      "outputs": []
    },
    {
      "cell_type": "markdown",
      "source": [
        "설명\n",
        "SGDClassifier의 partial_fit을 사용해 에포크마다 가중치 변화를 저장합니다.\n",
        "\n",
        "각 클래스의 가중치 벡터를 28x28 이미지로 변환해, 모델이 어떤 픽셀 패턴을 '중요하게' 보는지 시각화합니다.\n",
        "\n",
        "애니메이션은 에포크가 진행되면서 각 클래스별로 가중치 이미지가 어떻게 변화하는지 보여줍니다.\n",
        "\n",
        "추가적으로 시도할 수 있는 시각화\n",
        "정확도/손실 그래프를 실시간으로 업데이트하는 애니메이션\n",
        "\n",
        "임의의 테스트 샘플 10개에 대한 예측 결과(예측이 바뀌는지) 애니메이션"
      ],
      "metadata": {
        "id": "qFpEsFxCE5_U"
      }
    },
    {
      "cell_type": "code",
      "source": [],
      "metadata": {
        "id": "jV0Z5WQaE6qR"
      },
      "execution_count": null,
      "outputs": []
    }
  ]
}
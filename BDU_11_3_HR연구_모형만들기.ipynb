{
  "nbformat": 4,
  "nbformat_minor": 0,
  "metadata": {
    "colab": {
      "private_outputs": true,
      "provenance": [],
      "authorship_tag": "ABX9TyOkNh7ubgu1WOdJWisTtdT+",
      "include_colab_link": true
    },
    "kernelspec": {
      "name": "python3",
      "display_name": "Python 3"
    },
    "language_info": {
      "name": "python"
    }
  },
  "cells": [
    {
      "cell_type": "markdown",
      "metadata": {
        "id": "view-in-github",
        "colab_type": "text"
      },
      "source": [
        "<a href=\"https://colab.research.google.com/github/bjungweapon/mjc.ai.ml/blob/BDU/BDU_11_3_HR%EC%97%B0%EA%B5%AC_%EB%AA%A8%ED%98%95%EB%A7%8C%EB%93%A4%EA%B8%B0.ipynb\" target=\"_parent\"><img src=\"https://colab.research.google.com/assets/colab-badge.svg\" alt=\"Open In Colab\"/></a>"
      ]
    },
    {
      "cell_type": "markdown",
      "source": [
        ". HR 연구를 위한 이직 희망 여부 및 입사 지원잗르의 정보와 관련한 데이터의 일부를 활용하여 예측 모형을 만들고 CSV 파일을 생성해 보자.\n",
        "\n",
        "(이직을 할 만한 사람인가를 분류해 내는 것)\n",
        "\n",
        "[제공 데이터 목록 ]\n",
        "\n",
        ". job_change_y_train.csv\n",
        "\n",
        ". job_change_X_train.csv\n",
        "\n",
        ". job_change_X_test.csv\n"
      ],
      "metadata": {
        "id": "ONb5iLSCmu7B"
      }
    },
    {
      "cell_type": "markdown",
      "source": [
        "1. 데이터 로딩\n",
        "2. 데이터 전처리\n",
        "3. 모델 생성 및 예측 ( random_forest, XGBoost, LightGBM 모델)\n",
        "4. 모델 정확도 비교"
      ],
      "metadata": {
        "id": "GbpjxAWZoBQc"
      }
    },
    {
      "cell_type": "code",
      "execution_count": null,
      "metadata": {
        "id": "qA-KbRzmlOM6"
      },
      "outputs": [],
      "source": []
    },
    {
      "cell_type": "markdown",
      "source": [
        "1. 데이터 로딩"
      ],
      "metadata": {
        "id": "KElB8PtPoRGz"
      }
    },
    {
      "cell_type": "code",
      "source": [
        "from google.colab import drive\n",
        "drive.mount('/content/drive')\n",
        "\n",
        "import pandas as pd\n",
        "\n",
        "X_train = pd.read_csv(\"/content/drive/MyDrive/Colab Notebooks/job_change_X_train.csv\")\n",
        "y_train = pd.read_csv(\"/content/drive/MyDrive/Colab Notebooks/job_change_y_train.csv\")\n",
        "X_test =  pd.read_csv(\"/content/drive/MyDrive/Colab Notebooks/job_change_X_test.csv\")\n",
        "\n",
        "\n",
        "\n"
      ],
      "metadata": {
        "id": "DD2lH6mboq4v"
      },
      "execution_count": null,
      "outputs": []
    },
    {
      "cell_type": "markdown",
      "source": [
        "2. 데이터 전처리"
      ],
      "metadata": {
        "id": "P_D-AU_VoUIf"
      }
    },
    {
      "cell_type": "code",
      "source": [
        "X_train.head(10)"
      ],
      "metadata": {
        "id": "YnCtBN6LpdKq"
      },
      "execution_count": null,
      "outputs": []
    },
    {
      "cell_type": "code",
      "source": [
        "X_train.info()"
      ],
      "metadata": {
        "id": "wRPC5BPApkj-"
      },
      "execution_count": null,
      "outputs": []
    },
    {
      "cell_type": "code",
      "source": [
        "y_train.head(10)"
      ],
      "metadata": {
        "id": "Wauk3EgZpqH-"
      },
      "execution_count": null,
      "outputs": []
    },
    {
      "cell_type": "code",
      "source": [
        "y_train.info()"
      ],
      "metadata": {
        "id": "83VgEz02puci"
      },
      "execution_count": null,
      "outputs": []
    },
    {
      "cell_type": "code",
      "source": [
        "X_test.info()"
      ],
      "metadata": {
        "id": "h0vQQF3Opxuy"
      },
      "execution_count": null,
      "outputs": []
    },
    {
      "cell_type": "code",
      "source": [
        "y_train"
      ],
      "metadata": {
        "id": "6iM6CsiBp3lm"
      },
      "execution_count": null,
      "outputs": []
    },
    {
      "cell_type": "code",
      "source": [
        "print(X_train.info())\n",
        "print(X_test.info())\n",
        "print(y_train.info())\n",
        "\n",
        "print(X_train.describe())\n",
        "print(X_test.describe())\n",
        "print(y_train.describe())\n",
        "\n"
      ],
      "metadata": {
        "id": "1NvT0mf8p-4O"
      },
      "execution_count": null,
      "outputs": []
    },
    {
      "cell_type": "markdown",
      "source": [
        "전처리를 하자."
      ],
      "metadata": {
        "id": "D6kLLL55qa1y"
      }
    },
    {
      "cell_type": "code",
      "source": [
        "enrollee_id = X_test['enrollee_id'].copy()\n",
        "\n",
        "\n",
        "X_train = X_train.drop('enrollee_id', axis=1)\n",
        "X_test = X_test.drop('enrollee_id', axis=1)\n",
        "y_train = y_train.drop('enrollee_id', axis=1)\n",
        "\n"
      ],
      "metadata": {
        "id": "YbTs5NwFqaWP"
      },
      "execution_count": null,
      "outputs": []
    },
    {
      "cell_type": "code",
      "source": [
        "print(X_train.info())\n",
        "print(X_test.info())\n",
        "print(y_train.info())"
      ],
      "metadata": {
        "id": "4W3GxdOBqpPW"
      },
      "execution_count": null,
      "outputs": []
    },
    {
      "cell_type": "code",
      "source": [
        "###  columns를 지울 수 있는 방법\n",
        "\n",
        "X_train = X_train.drop( columns= 'enrollee_id')\n",
        "X_test = X_test.drop( columns= 'enrollee_id')\n",
        "y_train = y_train.drop( columns= 'enrollee_id')\n"
      ],
      "metadata": {
        "id": "Mpom728Sq3f1"
      },
      "execution_count": null,
      "outputs": []
    },
    {
      "cell_type": "code",
      "source": [
        "X_train.isna().sum()"
      ],
      "metadata": {
        "id": "iF5V26l2rGm1"
      },
      "execution_count": null,
      "outputs": []
    },
    {
      "cell_type": "code",
      "source": [
        "X_test.isna().sum()"
      ],
      "metadata": {
        "id": "oaeUdXChrNoF"
      },
      "execution_count": null,
      "outputs": []
    },
    {
      "cell_type": "code",
      "source": [
        "y_train.isna().sum()"
      ],
      "metadata": {
        "id": "RlIBE8dHrQL2"
      },
      "execution_count": null,
      "outputs": []
    },
    {
      "cell_type": "code",
      "source": [
        "### 결측치 처리 ( range로 처리 해 보자)\n",
        "## 1000 개가 넘는 컬럼명을 찾아서\n",
        "## 1000개가 넘는 공백이 있는 컬럼은 삭제 하다.\n",
        "\n",
        "\n",
        "column_na1000 = X_train.columns[X_train.isna().sum() > 1000]\n",
        "column_na1000\n",
        "\n"
      ],
      "metadata": {
        "id": "o0QJjC4VrbSN"
      },
      "execution_count": null,
      "outputs": []
    },
    {
      "cell_type": "code",
      "source": [
        "## 컬럼 삭제\n",
        "\n",
        "\n",
        "X_train = X_train.drop(columns=column_na1000)\n",
        "X_test = X_test.drop(columns=column_na1000)\n"
      ],
      "metadata": {
        "id": "MdNUNkOBsLa1"
      },
      "execution_count": null,
      "outputs": []
    },
    {
      "cell_type": "code",
      "source": [
        "print(X_train.info())\n",
        "print(X_test.info())\n",
        "print(y_train.info())\n"
      ],
      "metadata": {
        "id": "n7Epf-pksSj8"
      },
      "execution_count": null,
      "outputs": []
    },
    {
      "cell_type": "code",
      "source": [
        "## train에서 200개 미만의 결측치가 있는 컬럼은 쳘측치 대체\n",
        "## enrolled_university 컬럼을 보니 결측치가 많다.\n",
        "\n",
        "## 최빈도를 가지는 라벨로 대ㅔ\n",
        "\n",
        "mode_EU = X_train['enrolled_university'].mode()[0]\n",
        "mode_EU2 = X_train['enrolled_university'].value_counts().idxmax()\n",
        "\n",
        "print(mode_EU)\n",
        "print(mode_EU2)\n",
        "\n",
        "X_train['enrolled_university'] = X_train['enrolled_university'].fillna(mode_EU)\n",
        "X_test['enrolled_university'] = X_test['enrolled_university'].fillna(mode_EU)\n"
      ],
      "metadata": {
        "id": "d7TAU6JwshPU"
      },
      "execution_count": null,
      "outputs": []
    },
    {
      "cell_type": "code",
      "source": [
        "#### education level 컬럼\n",
        "## 최다빈도를 가지는 라벨로 대체\n",
        "\n",
        "mode_EU = X_train['education_level'].mode()[0]\n",
        "mode_EU2 = X_train['education_level'].value_counts().idxmax()\n",
        "\n",
        "print(mode_EU)\n",
        "print(mode_EU2)\n",
        "\n"
      ],
      "metadata": {
        "id": "nBSgkoBUtOtQ"
      },
      "execution_count": null,
      "outputs": []
    },
    {
      "cell_type": "code",
      "source": [
        "### 카레티리형 컬럼에 대하여 oneHotEncoding 수행\n",
        "\n",
        "from sklearn.preprocessing import OneHotEncoder\n",
        "\n",
        "## 인코딩할 카테고리형 컬럼만 별도 지정\n",
        "\n",
        "X_TRAIN_CAT = X_train.select_dtypes(include='object')\n",
        "X_TEST_CAT = X_test.select_dtypes(include='object')\n",
        "X_VAL_CAT = y_train.select_dtypes(include='object')\n",
        "\n",
        "##X_TRAIN_OH = pd.get_dummies(X_TRAIN_CAT)\n",
        "##X_TEST_OH = pd.get_dummies(X_TEST_CAT)\n",
        "##X_VAL_OH = pd.get_dummies(X_VAL_CAT)\n",
        "\n",
        "\n",
        "enc = OneHotEncoder(handle_unknown='ignore')\n",
        "enc.fit(X_TRAIN_CAT)\n",
        "\n"
      ],
      "metadata": {
        "id": "C3YOGPSptg-_"
      },
      "execution_count": null,
      "outputs": []
    },
    {
      "cell_type": "code",
      "source": [
        "X_TRAIN_conti = X_TRAIN.select_dtypes(exclude='object')\n",
        "X_TEST_conti = X_TEST.select_dtypes(exclude='object')\n",
        "X_VAL_conti = y_train.select_dtypes(exclude='object')\n",
        "\n",
        "scale = StandardScaler().fit(X_TRAIN_condi)\n",
        "\n",
        "### z - 점수 표준화\n",
        "\n",
        "X_TRAN_STD = scale.transform(X_TRAIN_conti)\n",
        "X_TEST_STD = scale.transform(X_TEST_conti)\n",
        "X_VAL_STD = scale.transform(X_VAL_conti)\n",
        "\n",
        "\n",
        "## 인코딩과 스케일링된 넘파이 배열 연결\n",
        "\n",
        "X_TRAIN = np.concatenate([X_TRAIN_STD, X_TRAIN_OH], axis=1)\n",
        "X_VAL = np.concatenate([X_TEST_STD, X_TEST_OH], axis=1)\n",
        "\n",
        "\n",
        "## 1차원 넘파이 배열로 평탄화\n",
        "\n",
        "y_TRAIN =  y_train.values.ravel()\n",
        "y_TEST =  y_test.values.ravel()\n",
        "\n",
        "\n"
      ],
      "metadata": {
        "id": "Yf9JbpDrumiX"
      },
      "execution_count": null,
      "outputs": []
    },
    {
      "cell_type": "markdown",
      "source": [
        "3. 모델 생성 및 예측"
      ],
      "metadata": {
        "id": "cNUgqnj4oYNT"
      }
    },
    {
      "cell_type": "markdown",
      "source": [
        "4. 모델 정확도 비교"
      ],
      "metadata": {
        "id": "bT2nXVvQoX97"
      }
    },
    {
      "cell_type": "code",
      "source": [],
      "metadata": {
        "id": "YhT6_j7woXEv"
      },
      "execution_count": null,
      "outputs": []
    },
    {
      "cell_type": "markdown",
      "source": [
        "5. insight\n",
        "\n",
        "  ㅓ-. 데이터 로딩, 데이터 전처리, 모델 셍성 및 예측, 모델 정확도 비교"
      ],
      "metadata": {
        "id": "B4ERYSjFoX67"
      }
    }
  ]
}